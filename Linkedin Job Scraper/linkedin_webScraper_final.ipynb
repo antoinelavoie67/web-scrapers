{
 "cells": [
  {
   "cell_type": "code",
   "execution_count": 1,
   "id": "140918ef",
   "metadata": {},
   "outputs": [],
   "source": [
    "from selenium import webdriver\n",
    "import time\n",
    "import pandas as pd"
   ]
  },
  {
   "cell_type": "code",
   "execution_count": 3,
   "id": "a07de89d",
   "metadata": {},
   "outputs": [
    {
     "name": "stderr",
     "output_type": "stream",
     "text": [
      "/var/folders/p2/fj_7q9852rx4zn_47ygtwss40000gn/T/ipykernel_898/105438885.py:3: DeprecationWarning: executable_path has been deprecated, please pass in a Service object\n",
      "  wd = webdriver.Chrome('/Users/antoine/Desktop/chromedriver')\n",
      "/var/folders/p2/fj_7q9852rx4zn_47ygtwss40000gn/T/ipykernel_898/105438885.py:6: DeprecationWarning: find_element_by_css_selector is deprecated. Please use find_element(by=By.CSS_SELECTOR, value=css_selector) instead\n",
      "  no_of_jobsp1 = wd.find_element_by_css_selector('h1>span').get_attribute('innerText')\n"
     ]
    },
    {
     "name": "stdout",
     "output_type": "stream",
     "text": [
      "40\n"
     ]
    }
   ],
   "source": [
    "# URL that will be scraped. Should be both job and location specific for best results. \n",
    "# In this case sceaping Software Engineer job listings in Alameda, California.\n",
    "url = 'https://www.linkedin.com/jobs/search?keywords=Software%20Engineer%20Intern&location=Alameda%2C%20California%2C%20United%20States&geoId=103300978&trk=public_jobs_jobs-search-bar_search-submit&position=1&pageNum=0'\n",
    "\n",
    "# Setting up Chrome Driver (must be downloaded and installed first).\n",
    "wd = webdriver.Chrome('/Users/antoine/Desktop/chromedriver')\n",
    "wd.get(url)\n",
    "\n",
    "# Use selenium to find the number of jobs listed.\n",
    "no_of_jobsp1 = wd.find_element_by_css_selector('h1>span').get_attribute('innerText')\n",
    "no_of_jobsp2 = no_of_jobsp1.replace(',', '').replace('+', '')\n",
    "no_of_jobs = int(no_of_jobsp2)\n",
    "\n",
    "# Check to see if above operation worked.\n",
    "print(no_of_jobs)\n"
   ]
  },
  {
   "cell_type": "code",
   "execution_count": 4,
   "id": "0e4204e0",
   "metadata": {},
   "outputs": [
    {
     "name": "stderr",
     "output_type": "stream",
     "text": [
      "/var/folders/p2/fj_7q9852rx4zn_47ygtwss40000gn/T/ipykernel_898/2046167413.py:6: DeprecationWarning: find_element_by_xpath is deprecated. Please use find_element(by=By.XPATH, value=xpath) instead\n",
      "  wd.find_element_by_xpath('/html/body/main/div/section/button').click()\n"
     ]
    }
   ],
   "source": [
    "# Scroll to the bottom of page in order to load up all possible job listings by clicking the 'See more jobs' button.\n",
    "i = 2\n",
    "while i <= int(5)+1: \n",
    "    wd.execute_script(\"window.scrollTo(0, document.body.scrollHeight);\")\n",
    "    i = i + 1\n",
    "    try:\n",
    "        wd.find_element_by_xpath('/html/body/main/div/section/button').click()\n",
    "        time.sleep(5)\n",
    "    except:\n",
    "        pass\n",
    "        time.sleep(5)"
   ]
  },
  {
   "cell_type": "code",
   "execution_count": 5,
   "id": "c3acaf0d",
   "metadata": {},
   "outputs": [
    {
     "name": "stderr",
     "output_type": "stream",
     "text": [
      "/var/folders/p2/fj_7q9852rx4zn_47ygtwss40000gn/T/ipykernel_898/3433817458.py:1: DeprecationWarning: find_element_by_class_name is deprecated. Please use find_element(by=By.CLASS_NAME, value=name) instead\n",
      "  job_lists = wd.find_element_by_class_name(\"jobs-search__results-list\")\n",
      "/var/folders/p2/fj_7q9852rx4zn_47ygtwss40000gn/T/ipykernel_898/3433817458.py:2: DeprecationWarning: find_elements_by_tag_name is deprecated. Please use find_elements(by=By.TAG_NAME, value=name) instead\n",
      "  jobs = job_lists.find_elements_by_tag_name('li') # return a list\n"
     ]
    }
   ],
   "source": [
    "# Create a list of all job elements to loop through them and find details for our table.\n",
    "job_lists = wd.find_element_by_class_name(\"jobs-search__results-list\")\n",
    "jobs = job_lists.find_elements_by_tag_name('li') # return a list"
   ]
  },
  {
   "cell_type": "code",
   "execution_count": 6,
   "id": "7e92c81e",
   "metadata": {},
   "outputs": [
    {
     "data": {
      "text/plain": [
       "40"
      ]
     },
     "execution_count": 6,
     "metadata": {},
     "output_type": "execute_result"
    }
   ],
   "source": [
    "# A quick check to see all things are working correctly\n",
    "len(jobs)"
   ]
  },
  {
   "cell_type": "code",
   "execution_count": 7,
   "id": "47ece88c",
   "metadata": {},
   "outputs": [
    {
     "name": "stderr",
     "output_type": "stream",
     "text": [
      "/var/folders/p2/fj_7q9852rx4zn_47ygtwss40000gn/T/ipykernel_898/3746525184.py:14: DeprecationWarning: find_element_by_css_selector is deprecated. Please use find_element(by=By.CSS_SELECTOR, value=css_selector) instead\n",
      "  job_title0 = job.find_element_by_css_selector('h3').get_attribute('innerText')\n",
      "/var/folders/p2/fj_7q9852rx4zn_47ygtwss40000gn/T/ipykernel_898/3746525184.py:17: DeprecationWarning: find_element_by_css_selector is deprecated. Please use find_element(by=By.CSS_SELECTOR, value=css_selector) instead\n",
      "  company_name0 = job.find_element_by_css_selector('h4').get_attribute('innerText')\n",
      "/var/folders/p2/fj_7q9852rx4zn_47ygtwss40000gn/T/ipykernel_898/3746525184.py:21: DeprecationWarning: find_element_by_css_selector is deprecated. Please use find_element(by=By.CSS_SELECTOR, value=css_selector) instead\n",
      "  location0 = job.find_element_by_css_selector('span.job-search-card__location').get_attribute('innerText')\n",
      "/var/folders/p2/fj_7q9852rx4zn_47ygtwss40000gn/T/ipykernel_898/3746525184.py:24: DeprecationWarning: find_element_by_css_selector is deprecated. Please use find_element(by=By.CSS_SELECTOR, value=css_selector) instead\n",
      "  date0 = job.find_element_by_css_selector('div>div>time').get_attribute('datetime')\n",
      "/var/folders/p2/fj_7q9852rx4zn_47ygtwss40000gn/T/ipykernel_898/3746525184.py:27: DeprecationWarning: find_element_by_css_selector is deprecated. Please use find_element(by=By.CSS_SELECTOR, value=css_selector) instead\n",
      "  job_link0 = job.find_element_by_css_selector('a').get_attribute('href')\n"
     ]
    }
   ],
   "source": [
    "# Create arrays to hold values that we find using selenium\n",
    "job_id= []\n",
    "job_title = []\n",
    "company_name = []\n",
    "location = []\n",
    "date = []\n",
    "job_link = []\n",
    "\n",
    "src = wd.page_source\n",
    "\n",
    "# Loop through the list to find job id, job title, company name, location, date posted, and job details link.\n",
    "for job in jobs:    \n",
    "    job_id0 = job.get_attribute('data-id')\n",
    "    job_id.append(job_id0)\n",
    "    \n",
    "    job_title0 = job.find_element_by_css_selector('h3').get_attribute('innerText')\n",
    "    job_title.append(job_title0)\n",
    "    \n",
    "    company_name0 = job.find_element_by_css_selector('h4').get_attribute('innerText')\n",
    "    company_name.append(company_name0)\n",
    "    \n",
    "    #''[class=\"job-result-card__location\"]''\n",
    "    location0 = job.find_element_by_css_selector('span.job-search-card__location').get_attribute('innerText')\n",
    "    location.append(location0)\n",
    "    \n",
    "    date0 = job.find_element_by_css_selector('div>div>time').get_attribute('datetime')\n",
    "    date.append(date0)\n",
    "    \n",
    "    job_link0 = job.find_element_by_css_selector('a').get_attribute('href')\n",
    "    job_link.append(job_link0)"
   ]
  },
  {
   "cell_type": "code",
   "execution_count": 8,
   "id": "74dcb646",
   "metadata": {},
   "outputs": [
    {
     "name": "stderr",
     "output_type": "stream",
     "text": [
      "/var/folders/p2/fj_7q9852rx4zn_47ygtwss40000gn/T/ipykernel_898/1478531755.py:18: DeprecationWarning: find_element_by_xpath is deprecated. Please use find_element(by=By.XPATH, value=xpath) instead\n",
      "  job_click = job.find_element_by_xpath(job_click_path).click()\n",
      "/var/folders/p2/fj_7q9852rx4zn_47ygtwss40000gn/T/ipykernel_898/1478531755.py:27: DeprecationWarning: find_element_by_xpath is deprecated. Please use find_element(by=By.XPATH, value=xpath) instead\n",
      "  seniority0 = job.find_element_by_xpath(seniority_path).get_attribute('innerText')\n",
      "/var/folders/p2/fj_7q9852rx4zn_47ygtwss40000gn/T/ipykernel_898/1478531755.py:35: DeprecationWarning: find_element_by_xpath is deprecated. Please use find_element(by=By.XPATH, value=xpath) instead\n",
      "  emp_type0 = job.find_element_by_xpath(emp_type_path).get_attribute('innerText')\n"
     ]
    }
   ],
   "source": [
    "# Create arrays to hold values that we find using selenium\n",
    "jd = []\n",
    "seniority = []\n",
    "emp_type = []\n",
    "job_func = []\n",
    "industries = []\n",
    "\n",
    "# Define scrolling variables, x represents start of scroll, y represents end of scroll.\n",
    "x = 0\n",
    "y = 400\n",
    "\n",
    "# Loop through the list to find job description, seniority level, type of emloyment (i.e. internship), job function, and the industries this job relates to.\n",
    "for item in range(len(jobs)):\n",
    "    wd.execute_script(\"window.scrollTo(\" + str(x) + \", \" + str(y) + \")\") \n",
    "    x = y\n",
    "    y += 400\n",
    "    job_func0=[]\n",
    "    industries0=[]\n",
    "    \n",
    "    # clicking job to view job details\n",
    "    job_click_path = f'/html/body/div[1]/div/main/section[2]/ul/li[{item+1}]/div/a'\n",
    "    job_click = job.find_element_by_xpath(job_click_path).click()\n",
    "    time.sleep(2)\n",
    "    \n",
    "    #jd_path = '/html/body/div[1]/div/section/div[2]/div/section[1]/div/div/section/div'    \n",
    "    #jd0 = job.find_element_by_xpath(jd_path).get_attribute('innerText')\n",
    "    #jd.append(jd0)\n",
    " \n",
    "    try:\n",
    "        seniority_path = '/html/body/div[1]/div/section/div[2]/div/section[1]/div/ul/li[1]/span'\n",
    "        seniority0 = job.find_element_by_xpath(seniority_path).get_attribute('innerText')\n",
    "        seniority.append(seniority0)\n",
    "    except:\n",
    "        seniority.append(\"Not Availible\")\n",
    "        \n",
    "    \n",
    "    try:\n",
    "        emp_type_path = '/html/body/div[1]/div/section/div[2]/div/section[1]/div/ul/li[2]/span'\n",
    "        emp_type0 = job.find_element_by_xpath(emp_type_path).get_attribute('innerText')\n",
    "        emp_type.append(emp_type0)\n",
    "    except:\n",
    "        emp_type.append(\"Not Availible\")\n",
    "    \n",
    "    \n",
    "\n",
    "    #job_func_path = '/html/body/main/section/div[2]/section[2]/ul/li[3]/span'\n",
    "    #job_func_elements = job.find_elements_by_xpath(job_func_path)\n",
    "    \n",
    "    # Use for loop because there may be multiple elements in this section.\n",
    "    #for element in job_func_elements:\n",
    "        #job_func0.append(element.get_attribute('innerText'))\n",
    "        #job_func_final = ', '.join(job_func0)\n",
    "        #job_func.append(job_func_final)\n",
    "    \n",
    "    #industries_path = '/html/body/main/section/div[2]/section[2]/ul/li[4]/span'\n",
    "    #industries_elements = job.find_elements_by_xpath(industries_path)\n",
    "    \n",
    "    # Use for loop because there may be multiple elements in this section.\n",
    "    #for element in industries_elements:\n",
    "        #industries0.append(element.get_attribute('innerText'))\n",
    "        #industries_final = ', '.join(industries0)\n",
    "        #industries.append(industries_final)"
   ]
  },
  {
   "cell_type": "code",
   "execution_count": 9,
   "id": "5ca3c4be",
   "metadata": {},
   "outputs": [
    {
     "name": "stdout",
     "output_type": "stream",
     "text": [
      "40\n",
      "40\n",
      "40\n",
      "40\n",
      "40\n"
     ]
    }
   ],
   "source": [
    "# Check that all arrays have the same length\n",
    "print(len(company_name))\n",
    "print(len(date))\n",
    "print(len(job_title))\n",
    "print(len(location))\n",
    "print(len(seniority))\n",
    "\n",
    "# Create Data Frame using pandas\n",
    "job_data = pd.DataFrame({'ID': job_id,\n",
    "'Date': date,\n",
    "'Company': company_name,\n",
    "'Title': job_title,\n",
    "'Location': location,\n",
    "#'Description': jd,\n",
    "'Level': seniority,\n",
    "'Type': emp_type,\n",
    "#'Function': job_func,\n",
    "#'Industry': industries,\n",
    "'Link': job_link\n",
    "})\n",
    "# Cleaning description column\n",
    "#job_data['Description'] = job_data['Description'].str.replace('\\n',' ')\n",
    "\n",
    "# Create csv holding the data\n",
    "job_data.to_csv(\"LinkedinSWEIntern.csv\")\n",
    "\n"
   ]
  }
 ],
 "metadata": {
  "interpreter": {
   "hash": "aee8b7b246df8f9039afb4144a1f6fd8d2ca17a180786b69acc140d282b71a49"
  },
  "kernelspec": {
   "display_name": "Python 3.9.5 64-bit",
   "language": "python",
   "name": "python3"
  },
  "language_info": {
   "codemirror_mode": {
    "name": "ipython",
    "version": 3
   },
   "file_extension": ".py",
   "mimetype": "text/x-python",
   "name": "python",
   "nbconvert_exporter": "python",
   "pygments_lexer": "ipython3",
   "version": "3.9.5"
  }
 },
 "nbformat": 4,
 "nbformat_minor": 5
}
